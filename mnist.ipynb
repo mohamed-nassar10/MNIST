{
  "cells": [
    {
      "cell_type": "code",
      "execution_count": 1,
      "metadata": {
        "id": "YeuAheYyhdZw"
      },
      "outputs": [],
      "source": [
        "# inspired from: A deep understanding of deep learning\n",
        "\n",
        "\n",
        "import numpy as np\n",
        "\n",
        "import torch\n",
        "import torch.nn as nn\n",
        "import torch.nn.functional as F\n",
        "from torch.utils.data import DataLoader\n",
        "\n",
        "from sklearn.model_selection import train_test_split\n",
        "\n",
        "import sklearn.metrics as skm\n",
        "\n",
        "\n",
        "import matplotlib.pyplot as plt\n",
        "from IPython import display\n",
        "display.set_matplotlib_formats('svg')\n",
        "\n",
        "# %matplotlib widget\n",
        "%matplotlib notebook\n",
        "%matplotlib inline\n"
      ]
    },
    {
      "cell_type": "code",
      "execution_count": 2,
      "metadata": {
        "id": "MU7rvmWuhjud"
      },
      "outputs": [],
      "source": [
        "data = np.loadtxt(open('sample_data/mnist_train_small.csv','rb'),delimiter=',')\n",
        "\n",
        "\n",
        "# extract labels (number IDs) and remove from data\n",
        "labels = data[:,0]\n",
        "data   = data[:,1:]\n",
        "\n",
        "\n",
        "# normalize the data to a range of [0 1]\n",
        "dataNorm = data / np.max(data)"
      ]
    },
    {
      "cell_type": "code",
      "execution_count": 3,
      "metadata": {
        "id": "Y_tZ1ymVp0Sf"
      },
      "outputs": [],
      "source": [
        "dataT   = torch.tensor( dataNorm ).float()\n",
        "labelsT = torch.tensor( labels ).long()\n",
        "\n",
        "train_data,test_data, train_labels,test_labels = train_test_split(dataT, labelsT, test_size=.1)\n",
        "\n",
        "train_data = torch.utils.data.TensorDataset(train_data,train_labels)\n",
        "test_data  = torch.utils.data.TensorDataset(test_data,test_labels)\n",
        "\n",
        "batchsize    = 32\n",
        "train_loader = DataLoader(train_data,batch_size=batchsize,shuffle=True,drop_last=True)\n",
        "test_loader  = DataLoader(test_data,batch_size=test_data.tensors[0].shape[0])"
      ]
    },
    {
      "cell_type": "code",
      "execution_count": 4,
      "metadata": {
        "id": "JK3OO3tAtZkA"
      },
      "outputs": [],
      "source": [
        "def createTheMNISTNet():\n",
        "\n",
        "  class mnistNet(nn.Module):\n",
        "    def __init__(self):\n",
        "      super().__init__()\n",
        "\n",
        "      ### input layer\n",
        "      self.input = nn.Linear(784,64)\n",
        "      \n",
        "      ### hidden layer\n",
        "      self.fc1 = nn.Linear(64,32)\n",
        "      self.fc2 = nn.Linear(32,32)\n",
        "\n",
        "      ### output layer\n",
        "      self.output = nn.Linear(32,10)\n",
        "\n",
        "\n",
        "\n",
        "    def forward(self,x):\n",
        "      x = F.relu( self.input(x) )\n",
        "      x = F.relu( self.fc1(x) )\n",
        "      x = F.relu( self.fc2(x) )\n",
        "\n",
        "      return self.output(x)\n",
        "\n",
        "\n",
        "\n",
        "\n",
        "  net = mnistNet()\n",
        "  \n",
        "  lossfun = nn.CrossEntropyLoss()\n",
        "\n",
        "  optimizer = torch.optim.Adam(net.parameters(),lr=.01)\n",
        "\n",
        "\n",
        "\n",
        "\n",
        "  return net,lossfun,optimizer\n",
        "\n"
      ]
    },
    {
      "cell_type": "code",
      "execution_count": 5,
      "metadata": {
        "id": "IblJo1NCp0kl"
      },
      "outputs": [],
      "source": [
        "def function2trainTheModel():\n",
        "\n",
        "  numepochs = 10\n",
        "  \n",
        "  net,lossfun,optimizer = createTheMNISTNet()\n",
        "\n",
        "  losses    = torch.zeros(numepochs)\n",
        "  trainAcc  = []\n",
        "  testAcc   = []\n",
        "\n",
        "\n",
        "  for epochi in range(numepochs):\n",
        "\n",
        "    batchAcc  = []\n",
        "    batchLoss = []\n",
        "    for X,y in train_loader:\n",
        "\n",
        "      yHat = net(X)\n",
        "      loss = lossfun(yHat,y)\n",
        "\n",
        "      optimizer.zero_grad()\n",
        "      loss.backward()\n",
        "      optimizer.step()\n",
        "\n",
        "      batchLoss.append(loss.item())\n",
        "\n",
        "      matches = torch.argmax(yHat,axis=1) == y\n",
        "      matchesNumeric = matches.float()\n",
        "      accuracyPct = 100*torch.mean(matchesNumeric)\n",
        "      batchAcc.append( accuracyPct )\n",
        "\n",
        "\n",
        "\n",
        "    trainAcc.append( np.mean(batchAcc) )\n",
        "\n",
        "    losses[epochi] = np.mean(batchLoss)\n",
        "\n",
        "    X,y = next(iter(test_loader))\n",
        "    with torch.no_grad():\n",
        "      yHat = net(X)\n",
        "      \n",
        "\n",
        "    testAcc.append( 100*torch.mean((torch.argmax(yHat,axis=1)==y).float()) )\n",
        "\n",
        "\n",
        "\n",
        "\n",
        "  return trainAcc,testAcc,losses,net\n",
        "\n"
      ]
    },
    {
      "cell_type": "code",
      "execution_count": 6,
      "metadata": {
        "colab": {
          "base_uri": "https://localhost:8080/",
          "height": 241
        },
        "id": "gHzKOZjnp0qn",
        "outputId": "67f68f46-a0ec-4eb4-93cb-e6ca23701ef9"
      },
      "outputs": [
        {
          "data": {
            "image/png": "[encoded data removed]",
            "text/plain": [
              "<Figure size 720x216 with 2 Axes>"
            ]
          },
          "metadata": {
            "needs_background": "light"
          },
          "output_type": "display_data"
        }
      ],
      "source": [
        "trainAcc,testAcc,losses,net = function2trainTheModel()\n",
        "\n",
        "\n",
        "fig,ax = plt.subplots(1,2,figsize=(10,3))\n",
        "\n",
        "ax[0].plot(losses)\n",
        "ax[0].set_xlabel('Epochs')\n",
        "ax[0].set_ylabel('Loss')\n",
        "ax[0].set_ylim([0,3])\n",
        "ax[0].set_title('Model loss')\n",
        "\n",
        "ax[1].plot(trainAcc,label='Train')\n",
        "ax[1].plot(testAcc,label='Test')\n",
        "ax[1].set_xlabel('Epochs')\n",
        "ax[1].set_ylabel('Accuracy (%)')\n",
        "ax[1].set_ylim([10,100])\n",
        "ax[1].set_title(f'Final model test accuracy: {testAcc[-1]:.2f}%')\n",
        "ax[1].legend()\n",
        "\n",
        "plt.show()"
      ]
    },
    {
      "cell_type": "code",
      "execution_count": 7,
      "metadata": {
        "colab": {
          "base_uri": "https://localhost:8080/"
        },
        "id": "_UMTFQTPqBjr",
        "outputId": "d75faf9b-57e7-45f6-c5dd-bee29f34d140"
      },
      "outputs": [
        {
          "data": {
            "text/plain": [
              "tensor([4, 2, 0,  ..., 3, 0, 5])"
            ]
          },
          "execution_count": 7,
          "metadata": {},
          "output_type": "execute_result"
        }
      ],
      "source": [
        "yHat = net(train_loader.dataset.tensors[0])\n",
        "train_predictions = torch.argmax(yHat,axis=1)\n",
        "\n",
        "yHat = net(test_loader.dataset.tensors[0])\n",
        "test_predictions = torch.argmax(yHat,axis=1)\n",
        "test_predictions"
      ]
    },
    {
      "cell_type": "code",
      "execution_count": 8,
      "metadata": {
        "colab": {
          "base_uri": "https://localhost:8080/"
        },
        "id": "DrtnBzsE51ya",
        "outputId": "023ae759-52d8-49a4-ae5e-25b2bca96266"
      },
      "outputs": [
        {
          "data": {
            "text/plain": [
              "0.9720684110757543"
            ]
          },
          "execution_count": 8,
          "metadata": {},
          "output_type": "execute_result"
        }
      ],
      "source": [
        "# on computing precision in multiclass data:\n",
        "#   There are now 10 classes, so there are 10 precision values.\n",
        "\n",
        "\n",
        "## option 1: compute precision for each class (each number)\n",
        "skm.precision_score(train_loader.dataset.tensors[1],train_predictions,average=None)\n",
        "\n",
        "## option 2: compute average precision, weighted by N\n",
        "skm.precision_score(train_loader.dataset.tensors[1],train_predictions,average='weighted')\n",
        "\n",
        "## option 3: compute average precision, unweighted (same as 'weighted' if category N's are equal)\n",
        "skm.precision_score(train_loader.dataset.tensors[1],train_predictions,average='macro')\n",
        "\n"
      ]
    },
    {
      "cell_type": "code",
      "execution_count": 9,
      "metadata": {
        "id": "0VbOnVLUwv4h"
      },
      "outputs": [],
      "source": [
        "train_metrics = [0,0,0,0]\n",
        "test_metrics  = [0,0,0,0]\n",
        "\n",
        "train_metrics[0] = skm.accuracy_score (train_loader.dataset.tensors[1],train_predictions) # accuracy is overall\n",
        "train_metrics[1] = skm.precision_score(train_loader.dataset.tensors[1],train_predictions,average='weighted')\n",
        "train_metrics[2] = skm.recall_score   (train_loader.dataset.tensors[1],train_predictions,average='weighted')\n",
        "train_metrics[3] = skm.f1_score       (train_loader.dataset.tensors[1],train_predictions,average='weighted')\n",
        "\n",
        "\n",
        "test_metrics[0] = skm.accuracy_score (test_loader.dataset.tensors[1],test_predictions)\n",
        "test_metrics[1] = skm.precision_score(test_loader.dataset.tensors[1],test_predictions,average='weighted')\n",
        "test_metrics[2] = skm.recall_score   (test_loader.dataset.tensors[1],test_predictions,average='weighted')\n",
        "test_metrics[3] = skm.f1_score       (test_loader.dataset.tensors[1],test_predictions,average='weighted')"
      ]
    },
    {
      "cell_type": "code",
      "execution_count": 10,
      "metadata": {
        "colab": {
          "base_uri": "https://localhost:8080/",
          "height": 281
        },
        "id": "xH5cVjnuwv6z",
        "outputId": "cde4d8ec-8442-4acf-ade7-53f429d33c33"
      },
      "outputs": [
        {
          "data": {
            "image/png": "[encoded data removed]",
            "text/plain": [
              "<Figure size 432x288 with 1 Axes>"
            ]
          },
          "metadata": {
            "needs_background": "light"
          },
          "output_type": "display_data"
        }
      ],
      "source": [
        "plt.bar(np.arange(4)-.1,train_metrics,.5)\n",
        "plt.bar(np.arange(4)+.1,test_metrics,.5)\n",
        "plt.xticks([0,1,2,3],['Accuracy','Precision','Recall','F1-score'])\n",
        "plt.ylim([.9,1])\n",
        "plt.legend(['Train','Test'])\n",
        "plt.title('Performance metrics')\n",
        "plt.show()"
      ]
    },
    {
      "cell_type": "code",
      "execution_count": 11,
      "metadata": {
        "colab": {
          "base_uri": "https://localhost:8080/",
          "height": 241
        },
        "id": "MF_NFJ_367EH",
        "outputId": "b45533ee-658d-4183-ed62-bb133d507633"
      },
      "outputs": [
        {
          "data": {
            "image/png": "[encoded data removed]",
            "text/plain": [
              "<Figure size 864x216 with 1 Axes>"
            ]
          },
          "metadata": {
            "needs_background": "light"
          },
          "output_type": "display_data"
        }
      ],
      "source": [
        "# Bar graphs of class-specific precision and recall for test data\n",
        "\n",
        "precision = skm.precision_score(test_loader.dataset.tensors[1],test_predictions,average=None)\n",
        "recall    = skm.recall_score   (test_loader.dataset.tensors[1],test_predictions,average=None)\n",
        "\n",
        "\n",
        "fig = plt.figure(figsize=(12,3))\n",
        "plt.bar(np.arange(10)-.15,precision,.5)\n",
        "plt.bar(np.arange(10)+.15,recall,.5)\n",
        "plt.xticks(range(10),range(10))\n",
        "plt.ylim([.5,1])\n",
        "plt.xlabel('Number')\n",
        "plt.legend(['Precision','Recall'])\n",
        "plt.title('Category-specific performance metrics')\n",
        "plt.show()"
      ]
    },
    {
      "cell_type": "code",
      "execution_count": 12,
      "metadata": {
        "colab": {
          "base_uri": "https://localhost:8080/",
          "height": 294
        },
        "id": "v3EuScFn0wXF",
        "outputId": "cc3d5765-2dc1-4b72-b83f-8b4baea7fe31"
      },
      "outputs": [
        {
          "data": {
            "image/png": "[encoded data removed]",
            "text/plain": [
              "<Figure size 720x288 with 3 Axes>"
            ]
          },
          "metadata": {
            "needs_background": "light"
          },
          "output_type": "display_data"
        }
      ],
      "source": [
        "trainConf = skm.confusion_matrix(train_loader.dataset.tensors[1],train_predictions,normalize='true')\n",
        "testConf  = skm.confusion_matrix(test_loader.dataset.tensors[1], test_predictions,normalize='true')\n",
        "\n",
        "fig,ax = plt.subplots(1,2,figsize=(10,4))\n",
        "\n",
        "ax[0].imshow(trainConf,'Blues',vmax=.05)\n",
        "ax[0].set_xticks(range(10))\n",
        "ax[0].set_yticks(range(10))\n",
        "ax[0].set_title('TRAIN confusion matrix')\n",
        "ax[0].set_xlabel('True number')\n",
        "ax[0].set_xlabel('Predicted number')\n",
        "ax[0].set_ylabel('True number')\n",
        "\n",
        "a = ax[1].imshow(testConf,cmap='Blues',vmax=.05)\n",
        "ax[1].set_xticks(range(10))\n",
        "ax[1].set_yticks(range(10))\n",
        "ax[1].set_title('TEST confusion matrix')\n",
        "ax[1].set_xlabel('Predicted number')\n",
        "ax[1].set_ylabel('True number')\n",
        "\n",
        "fig.colorbar(a)\n",
        "plt.show()"
      ]
    }
  ],
  "metadata": {
    "colab": {
      "collapsed_sections": [],
      "name": "DUDL_measurePerformance_example2.ipynb",
      "provenance": []
    },
    "kernelspec": {
      "display_name": "Python 3",
      "name": "python3"
    }
  },
  "nbformat": 4,
  "nbformat_minor": 0
}
